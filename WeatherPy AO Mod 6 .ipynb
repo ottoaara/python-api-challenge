{
 "cells": [
  {
   "cell_type": "code",
   "execution_count": null,
   "id": "7688c317",
   "metadata": {},
   "outputs": [],
   "source": [
    "#Mod 6 AO Weather PY citipy already installed.  "
   ]
  },
  {
   "cell_type": "code",
   "execution_count": null,
   "id": "5fac79e3",
   "metadata": {},
   "outputs": [],
   "source": [
    "# Importing libs and abbr. \n",
    "import pandas as pd\n",
    "import matplotlib.pyplot as plt\n",
    "import requests\n",
    "import time\n",
    "import numpy as np\n",
    " \n",
    "\n",
    "# call API key for OpenWeatherMap\n",
    "from api_keys import api_key\n",
    "\n",
    "# citypy gives long/lat\n",
    "from citipy import citipy\n",
    "\n",
    "# Output File (CSV)\n",
    "output_data_file = \"output_data/cities.csv\"\n",
    "\n",
    "# Range of latitudes and longitudes\n",
    "lat_range = (-90, 90)\n",
    "lng_range = (-180, 180)"
   ]
  }
 ],
 "metadata": {
  "kernelspec": {
   "display_name": "Python 3 (ipykernel)",
   "language": "python",
   "name": "python3"
  },
  "language_info": {
   "codemirror_mode": {
    "name": "ipython",
    "version": 3
   },
   "file_extension": ".py",
   "mimetype": "text/x-python",
   "name": "python",
   "nbconvert_exporter": "python",
   "pygments_lexer": "ipython3",
   "version": "3.10.9"
  }
 },
 "nbformat": 4,
 "nbformat_minor": 5
}
